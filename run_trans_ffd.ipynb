{
 "cells": [
  {
   "cell_type": "code",
   "execution_count": 8,
   "metadata": {},
   "outputs": [
    {
     "data": {
      "text/plain": [
       "Successfully loaded data/models/VGG_ILSVRC_19_layers.caffemodel\n"
      ]
     },
     "execution_count": 8,
     "metadata": {},
     "output_type": "execute_result"
    },
    {
     "data": {
      "text/plain": [
       "conv1_1: 64 3 3 3\n",
       "conv1_2: 64 64 3 3\n",
       "conv2_1: 128 64 3 3\n"
      ]
     },
     "execution_count": 8,
     "metadata": {},
     "output_type": "execute_result"
    },
    {
     "data": {
      "text/plain": [
       "conv2_2: 128 128 3 3\n",
       "conv3_1: 256 128 3 3\n"
      ]
     },
     "execution_count": 8,
     "metadata": {},
     "output_type": "execute_result"
    },
    {
     "data": {
      "text/plain": [
       "conv3_2: 256 256 3 3\n"
      ]
     },
     "execution_count": 8,
     "metadata": {},
     "output_type": "execute_result"
    },
    {
     "data": {
      "text/plain": [
       "conv3_3: 256 256 3 3\n"
      ]
     },
     "execution_count": 8,
     "metadata": {},
     "output_type": "execute_result"
    },
    {
     "data": {
      "text/plain": [
       "conv3_4: 256 256 3 3\n"
      ]
     },
     "execution_count": 8,
     "metadata": {},
     "output_type": "execute_result"
    },
    {
     "data": {
      "text/plain": [
       "conv4_1: 512 256 3 3\n"
      ]
     },
     "execution_count": 8,
     "metadata": {},
     "output_type": "execute_result"
    },
    {
     "data": {
      "text/plain": [
       "conv4_2: 512 512 3 3\n"
      ]
     },
     "execution_count": 8,
     "metadata": {},
     "output_type": "execute_result"
    },
    {
     "data": {
      "text/plain": [
       "conv4_3: 512 512 3 3\n"
      ]
     },
     "execution_count": 8,
     "metadata": {},
     "output_type": "execute_result"
    },
    {
     "data": {
      "text/plain": [
       "conv4_4: 512 512 3 3\n"
      ]
     },
     "execution_count": 8,
     "metadata": {},
     "output_type": "execute_result"
    },
    {
     "data": {
      "text/plain": [
       "conv5_1: 512 512 3 3\n"
      ]
     },
     "execution_count": 8,
     "metadata": {},
     "output_type": "execute_result"
    },
    {
     "data": {
      "text/plain": [
       "conv5_2: 512 512 3 3\n"
      ]
     },
     "execution_count": 8,
     "metadata": {},
     "output_type": "execute_result"
    },
    {
     "data": {
      "text/plain": [
       "conv5_3: 512 512 3 3\n"
      ]
     },
     "execution_count": 8,
     "metadata": {},
     "output_type": "execute_result"
    },
    {
     "data": {
      "text/plain": [
       "conv5_4: 512 512 3 3\n"
      ]
     },
     "execution_count": 8,
     "metadata": {},
     "output_type": "execute_result"
    },
    {
     "data": {
      "text/plain": [
       "fc6: 1 1 25088 4096\n"
      ]
     },
     "execution_count": 8,
     "metadata": {},
     "output_type": "execute_result"
    },
    {
     "data": {
      "text/plain": [
       "fc7: 1 1 4096 4096\n"
      ]
     },
     "execution_count": 8,
     "metadata": {},
     "output_type": "execute_result"
    },
    {
     "data": {
      "text/plain": [
       "fc8: 1 1 4096 1000\n"
      ]
     },
     "execution_count": 8,
     "metadata": {},
     "output_type": "execute_result"
    },
    {
     "data": {
      "text/plain": [
       "cnn succesfully loaded\t\n"
      ]
     },
     "execution_count": 8,
     "metadata": {},
     "output_type": "execute_result"
    },
    {
     "data": {
      "text/plain": [
       "nil\t\n"
      ]
     },
     "execution_count": 8,
     "metadata": {},
     "output_type": "execute_result"
    },
    {
     "data": {
      "text/plain": [
       "nn.Sequential {\n",
       "  [input -> (1) -> (2) -> (3) -> (4) -> (5) -> (6) -> (7) -> (8) -> (9) -> (10) -> (11) -> (12) -> (13) -> (14) -> (15) -> (16) -> (17) -> (18) -> (19) -> (20) -> (21) -> (22) -> (23) -> (24) -> (25) -> (26) -> (27) -> output]\n",
       "  (1): nn.TVLoss\n",
       "  (2): cudnn.SpatialConvolution(3 -> 64, 3x3, 1,1, 1,1)\n",
       "  (3): cudnn.ReLU\n",
       "  (4): cudnn.SpatialConvolution(64 -> 64, 3x3, 1,1, 1,1)\n",
       "  (5): cudnn.ReLU\n",
       "  (6): cudnn.SpatialMaxPooling(2x2, 2,2)\n",
       "  (7): cudnn.SpatialConvolution(64 -> 128, 3x3, 1,1, 1,1)\n",
       "  (8): cudnn.ReLU\n",
       "  (9): cudnn.SpatialConvolution(128 -> 128, 3x3, 1,1, 1,1)\n",
       "  (10): cudnn.ReLU\n",
       "  (11): cudnn.SpatialMaxPooling(2x2, 2,2)\n",
       "  (12): cudnn.SpatialConvolution(128 -> 256, 3x3, 1,1, 1,1)\n",
       "  (13): cudnn.ReLU\n",
       "  (14): nn.MRFMM\n",
       "  (15): cudnn.SpatialConvolution(256 -> 256, 3x3, 1,1, 1,1)\n",
       "  (16): cudnn.ReLU\n",
       "  (17): cudnn.SpatialConvolution(256 -> 256, 3x3, 1,1, 1,1)\n",
       "  (18): cudnn.ReLU\n",
       "  (19): cudnn.SpatialConvolution(256 -> 256, 3x3, 1,1, 1,1)\n",
       "  (20): cudnn.ReLU\n",
       "  (21): cudnn.SpatialMaxPooling(2x2, 2,2)\n",
       "  (22): cudnn.SpatialConvolution(256 -> 512, 3x3, 1,1, 1,1)\n",
       "  (23): cudnn.ReLU\n",
       "  (24): nn.MRFMM\n",
       "  (25): cudnn.SpatialConvolution(512 -> 512, 3x3, 1,1, 1,1)\n",
       "  (26): cudnn.ReLU\n",
       "  (27): nn.ContentLoss\n",
       "}\n",
       "{\n",
       "  gradInput : CudaTensor - empty\n",
       "  modules : \n",
       "    {\n",
       "      1 : \n",
       "        nn.TVLoss\n",
       "        {\n",
       "          x_diff : CudaTensor - empty\n",
       "          _type : torch.CudaTensor\n",
       "          output : CudaTensor - size: 3x192x149\n",
       "          gradInput : CudaTensor - empty\n",
       "          strength : 0.001\n",
       "          y_diff : CudaTensor - empty\n",
       "        }\n",
       "      2 : \n",
       "        cudnn.SpatialConvolution(3 -> 64, 3x3, 1,1, 1,1)\n",
       "        {\n",
       "          padW : 1\n",
       "          pad : \n",
       "            {\n",
       "              1 : 1\n",
       "              2 : 1\n",
       "            }\n",
       "          nInputPlane : 3\n",
       "          output : CudaTensor - size: 64x192x149\n",
       "          name : conv1_1\n",
       "          iSize : LongStorage - size: 4\n",
       "          convDesc : cdata<struct cudnnConvolutionStruct *[?]>: 0x408df898\n",
       "          convDescData : \n",
       "            {\n",
       "              upscaleA : \n",
       "                {\n",
       "                  1 : 1\n",
       "                  2 : 1\n",
       "                }\n",
       "              arrayLength : 2\n",
       "              padA : \n",
       "                {\n",
       "          "
      ]
     },
     "execution_count": 8,
     "metadata": {},
     "output_type": "execute_result"
    },
    {
     "data": {
      "text/plain": [
       "        1 : 1\n",
       "                  2 : 1\n",
       "                }\n",
       "              dataType : CUDNN_DATA_FLOAT\n",
       "              mode : CUDNN_CROSS_CORRELATION\n",
       "              filterStrideA : \n",
       "                {\n",
       "                  1 : 1\n",
       "                  2 : 1\n",
       "                }\n",
       "            }\n",
       "          stride : \n",
       "            {\n",
       "              1 : 1\n",
       "              2 : 1\n",
       "            }\n",
       "          groups : 1\n",
       "          dH : 1\n",
       "          nOutputPlane : 64\n",
       "          bias : CudaTensor - size: 64\n",
       "          oDescForBias : cdata<struct cudnnTensorStruct *[1]>: 0x40c087b8\n",
       "          input_offset : 85824\n",
       "          gradWeight : CudaTensor - size: 64x3x3x3\n",
       "          autotunerHash : -dimA1,3,192,149 -filtA64,3,3,3 1,64,192,149 -padA1,1 -convStrideA1,1 CUDNN_DATA_FLOAT\n",
       "          biasDesc : cdata<struct cudnnTensorStruct *[1]>: 0x41d90158\n",
       "          gradInput : CudaTensor - empty\n",
       "          _type : torch.CudaTensor\n",
       "          output_slice : CudaTensor - size: 1x64x192x149\n",
       "          dW : 1\n",
       "          padH : 1\n",
       "          kH : 3\n",
       "          weight_offset : 1728\n",
       "          output_offset : 1830912\n",
       "          input_slice : CudaTensor - size: 1x3x192x149\n",
       "          oDesc : cdata<struct cudnnTensorStruct *[1]>: 0x41e0ece0\n",
       "          oSize : LongStorage - size: 4\n",
       "          iDesc : cdata<struct cudnnTensorStruct *[1]>: 0x40a7baa0\n",
       "          weight : CudaTensor - size: 64x3x3x3\n",
       "          gradBias : CudaTensor - size: 64\n",
       "          kW : 3\n",
       "          weightDesc : cdata<struct cudnnFilterStruct *[?]>: 0x40b573c0\n",
       "        }\n",
       "      3 : \n",
       "        cudnn.ReLU\n",
       "        {\n",
       "          output : CudaTensor - size: 64x192x149\n",
       "          gradInput : CudaTensor - empty\n",
       "          iDesc : cdata<struct cudnnTensorStruct *[1]>: 0x40c98b70\n",
       "          inplace : true\n",
       "          mode : CUDNN_ACTIVATION_RELU\n",
       "          _type : torch.CudaTensor\n",
       "          nElem : 1830912\n",
       "      "
      ]
     },
     "execution_count": 8,
     "metadata": {},
     "output_type": "execute_result"
    },
    {
     "data": {
      "text/plain": [
       "    name : relu1_1\n",
       "          activDesc : cdata<struct cudnnActivationStruct *[1]>: 0x41e0da48\n",
       "        }\n",
       "      4 : \n",
       "        cudnn.SpatialConvolution(64 -> 64, 3x3, 1,1, 1,1)\n",
       "        {\n",
       "          padW : 1\n",
       "          pad : \n",
       "            {\n",
       "              1 : 1\n",
       "              2 : 1\n",
       "            }\n",
       "          nInputPlane : 64\n",
       "          output : CudaTensor - size: 64x192x149\n",
       "          name : conv1_2\n",
       "          iSize : LongStorage - size: 4\n",
       "          convDesc : cdata<struct cudnnConvolutionStruct *[?]>: 0x40cabb30\n",
       "          convDescData : \n",
       "            {\n",
       "              upscaleA : \n",
       "                {\n",
       "                  1 : 1\n",
       "                  2 : 1\n",
       "                }\n",
       "              arrayLength : 2\n",
       "              padA : \n",
       "                {\n",
       "                  1 : 1\n",
       "                  2 : 1\n",
       "                }\n",
       "              dataType : CUDNN_DATA_FLOAT\n",
       "              mode : CUDNN_CROSS_CORRELATION\n",
       "              filterStrideA : \n",
       "                {\n",
       "                  1 : 1\n",
       "                  2 : 1\n",
       "                }\n",
       "            }\n",
       "          stride : \n",
       "            {\n",
       "              1 : 1\n",
       "              2 : 1\n",
       "            }\n",
       "          groups : 1\n",
       "          dH : 1\n",
       "          nOutputPlane : 64\n"
      ]
     },
     "execution_count": 8,
     "metadata": {},
     "output_type": "execute_result"
    },
    {
     "data": {
      "text/plain": [
       "          bias : CudaTensor - size: 64\n",
       "          oDescForBias : cdata<struct cudnnTensorStruct *[1]>: 0x40a74960\n",
       "          input_offset : 1830912\n",
       "          gradWeight : CudaTensor - size: 64x64x3x3\n",
       "          autotunerHash : -dimA1,64,192,149 -filtA64,64,3,3 1,64,192,149 -padA1,1 -convStrideA1,1 CUDNN_DATA_FLOAT\n",
       "          biasDesc : cdata<struct cudnnTensorStruct *[1]>: 0x4130b1c8\n",
       "          gradInput : CudaTensor - empty\n",
       "          _type : torch.CudaTensor\n",
       "          output_slice : CudaTensor - size: 1x64x192x149\n",
       "          dW : 1\n",
       "          padH : 1\n",
       "          kH : 3\n",
       "          weight_offset : 36864\n",
       "          output_offset : 1830912\n",
       "          input_slice : CudaTensor - size: 1x64x192x149\n",
       "          oDesc : cdata<struct cudnnTensorStruct *[1]>: 0x41eec148\n",
       "          oSize : LongStorage - size: 4\n",
       "          iDesc : cdata<struct cudnnTensorStruct *[1]>: 0x41e8f7b0\n",
       "          weight : CudaTensor - size: 64x64x3x3\n",
       "          gradBias : CudaTensor - size: 64\n",
       "          kW : 3\n",
       "          weightDesc : cdata<struct cudnnFilterStruct *[?]>: 0x41e8dc90\n",
       "        }\n",
       "      5 : \n",
       "        cudnn.ReLU\n",
       "        {\n",
       "          output : CudaTensor - size: 64x192x149\n",
       "          gradInput : CudaTensor - empty\n",
       "          iDesc : cdata<struct cudnnTensorStruct *[1]>: 0x407c8a48\n",
       "          inplace : true\n",
       "          mode : CUDNN_ACTIVATION_RELU\n",
       "          _type : torch.CudaTensor\n",
       "          nElem : 1830912\n",
       "          name : relu1_2\n",
       "          activDesc : cdata<struct cudnnActivationStruct *[1]>: 0x40cae400\n",
       "        }\n",
       "      6 : \n",
       "        cudnn.SpatialMaxPooling(2x2, 2,2)\n",
       "        {\n",
       "          dH : 2\n",
       "          dW : 2\n",
       "          oDesc : cdata<struct cudnnTensorStruct *[1]>: 0x401994c0\n",
       "          kW : 2\n",
       "          gradInput : CudaTensor - empty\n",
       "          iDesc : cdata<struct cudnnTensorStruct *[1]>: 0x40f440c8\n",
       "          iSize : LongStorage - size: 4\n",
       "          poolDesc : cdata<struct cudnnPoolingStruct *[1]>: 0x40db1fd0\n",
       "          name : pool1\n",
       "          mode : CUDNN_POOLING_MAX\n",
       "          _type : torch.CudaTensor\n",
       "          padH : 0\n",
       "      "
      ]
     },
     "execution_count": 8,
     "metadata": {},
     "output_type": "execute_result"
    },
    {
     "data": {
      "text/plain": [
       "    ceil_mode : true\n",
       "          output : CudaTensor - size: 64x96x75\n",
       "          kH : 2\n",
       "          padW : 0\n",
       "        }\n",
       "      7 : \n",
       "        cudnn.SpatialConvolution(64 -> 128, 3x3, 1,1, 1,1)\n",
       "        {\n",
       "          padW : 1\n",
       "          pad : \n",
       "            {\n",
       "              1 : 1\n",
       "              2 : 1\n",
       "            }\n",
       "          nInputPlane : 64\n",
       "          output : CudaTensor - size: 128x96x75\n",
       "          name : conv2_1\n",
       "          iSize : LongStorage - size: 4\n",
       "          convDesc : cdata<struct cudnnConvolutionStruct *[?]>: 0x40035410\n",
       "          convDescData : \n",
       "            {\n",
       "              upscaleA : \n",
       "                {\n",
       "                  1 : 1\n",
       "                  2 : 1\n",
       "                }\n",
       "              arrayLength : 2\n",
       "              padA : \n",
       "                {\n",
       "                  1 : 1\n",
       "                  2 : 1\n",
       "                }\n",
       "              dataType : CUDNN_DATA_FLOAT\n",
       "              mode : CUDNN_CROSS_CORRELATION\n",
       "              filterStrideA : \n",
       "                {\n",
       "                  1 : 1\n",
       "                  2 : 1\n",
       "                }\n",
       "            }\n",
       "          stride : \n",
       "            {\n",
       "              1 : 1\n",
       "              2 : 1\n",
       "            }\n",
       "          groups : 1\n",
       "          dH : 1\n",
       "          nOutputPlane : 128\n"
      ]
     },
     "execution_count": 8,
     "metadata": {},
     "output_type": "execute_result"
    },
    {
     "data": {
      "text/plain": [
       "          bias : CudaTensor - size: 128\n",
       "          oDescForBias : cdata<struct cudnnTensorStruct *[1]>: 0x40c34418\n",
       "          input_offset : 460800\n",
       "          gradWeight : CudaTensor - size: 128x64x3x3\n",
       "          autotunerHash : -dimA1,64,96,75 -filtA128,64,3,3 1,128,96,75 -padA1,1 -convStrideA1,1 CUDNN_DATA_FLOAT\n",
       "          biasDesc : cdata<struct cudnnTensorStruct *[1]>: 0x40231430\n",
       "          gradInput : CudaTensor - empty\n",
       "          _type : torch.CudaTensor\n",
       "          output_slice : CudaTensor - size: 1x128x96x75\n",
       "          dW : 1\n",
       "          padH : 1\n",
       "          kH : 3\n",
       "          weight_offset : 73728\n",
       "          output_offset : 921600\n",
       "          input_slice : CudaTensor - size: 1x64x96x75\n",
       "          oDesc : cdata<struct cudnnTensorStruct *[1]>: 0x40da9ce0\n",
       "          oSize : LongStorage - size: 4\n",
       "          iDesc : cdata<struct cudnnTensorStruct *[1]>: 0x4022d858\n",
       "          weight : CudaTensor - size: 128x64x3x3\n",
       "          gradBias : CudaTensor - size: 128\n",
       "          kW : 3\n",
       "          weightDesc : cdata<struct cudnnFilterStruct *[?]>: 0x4151fef0\n",
       "        }\n",
       "      8 : \n",
       "        cudnn.ReLU\n",
       "        {\n",
       "          output : CudaTensor - size: 128x96x75\n",
       "          gradInput : CudaTensor - empty\n",
       "          iDesc : cdata<struct cudnnTensorStruct *[1]>: 0x41729c10\n",
       "          inplace : true\n",
       "          mode : CUDNN_ACTIVATION_RELU\n",
       "          _type : torch.CudaTensor\n",
       "          nElem : 921600\n",
       "          name : relu2_1\n",
       "          activDesc : cdata<struct cudnnActivationStruct *[1]>: 0x41fe8698\n",
       "        }\n",
       "      9 : \n",
       "        cudnn.SpatialConvolution(128 -> 128, 3x3, 1,1, 1,1)\n",
       "        {\n",
       "          padW : 1\n",
       "          pad : \n",
       "            {\n",
       "              1 : 1\n",
       "              2 : 1\n",
       "            }\n",
       "          nInputPlane : 128\n",
       "          output : CudaTensor - size: 128x96x75\n",
       "          name : conv2_2\n",
       "          iSize : LongStorage - size: 4\n",
       "          convDesc : cdata<struct cudnnConvolutionStruct *[?]>: 0x401865b8\n",
       "          convDescData : \n",
       "            {\n",
       " "
      ]
     },
     "execution_count": 8,
     "metadata": {},
     "output_type": "execute_result"
    },
    {
     "data": {
      "text/plain": [
       "             upscaleA : \n",
       "                {\n",
       "                  1 : 1\n",
       "                  2 : 1\n",
       "                }\n",
       "              arrayLength : 2\n",
       "              padA : \n",
       "                {\n",
       "                  1 : 1\n",
       "                  2 : 1\n",
       "                }\n",
       "              dataType : CUDNN_DATA_FLOAT\n",
       "              mode : CUDNN_CROSS_CORRELATION\n",
       "              filterStrideA : \n",
       "                {\n",
       "                  1 : 1\n",
       "                  2 : 1\n",
       "                }\n",
       "            }\n",
       "          stride : \n",
       "            {\n",
       "              1 : 1\n",
       "              2 : 1\n",
       "            }\n",
       "          groups : 1\n",
       "          dH : 1\n",
       "          nOutputPlane : 128\n",
       "          bias : CudaTensor - size: 128\n",
       "          oDescForBias : cdata<struct cudnnTensorStruct *[1]>: 0x40c370b0\n",
       "          input_offset : 921600\n",
       "          gradWeight : CudaTensor - size: 128x128x3x3\n",
       "          autotunerHash : -dimA1,128,96,75 -filtA128,128,3,3 1,128,96,75 -padA1,1 -convStrideA1,1 CUDNN_DATA_FLOAT\n",
       "          biasDesc : cdata<struct cudnnTensorStruct *[1]>: 0x40183210\n",
       "          gradInput : CudaTensor - empty\n",
       "          _type : torch.CudaTensor\n",
       "          output_slice : CudaTensor - size: 1x128x96x75\n",
       "          dW : 1\n",
       "          padH : 1\n",
       "          kH : 3\n",
       "          weight_offset : 147456\n",
       "          output_offset : 921600\n",
       "          input_slice : CudaTensor - size: 1x128x96x75\n",
       "          oDesc : cdata<struct cudnnTensorStruct *[1]>: 0x40bfc430\n",
       "          oSize : LongStorage - size: 4\n",
       "          iDesc : cdata<struct cudnnTensorStruct *[1]>: 0x41d7f920\n"
      ]
     },
     "execution_count": 8,
     "metadata": {},
     "output_type": "execute_result"
    },
    {
     "data": {
      "text/plain": [
       "          weight : CudaTensor - size: 128x128x3x3\n",
       "          gradBias : CudaTensor - size: 128\n",
       "          kW : 3\n",
       "          weightDesc : cdata<struct cudnnFilterStruct *[?]>: 0x41e8e518\n",
       "        }\n",
       "      10 : \n",
       "        cudnn.ReLU\n",
       "        {\n",
       "          output : CudaTensor - size: 128x96x75\n",
       "          gradInput : CudaTensor - empty\n",
       "          iDesc : cdata<struct cudnnTensorStruct *[1]>: 0x40247568\n",
       "          inplace : true\n",
       "          mode : CUDNN_ACTIVATION_RELU\n",
       "          _type : torch.CudaTensor\n",
       "          nElem : 921600\n",
       "          name : relu2_2\n",
       "          activDesc : cdata<struct cudnnActivationStruct *[1]>: 0x40238c88\n",
       "        }\n",
       "      11 : \n",
       "        cudnn.SpatialMaxPooling(2x2, 2,2)\n",
       "        {\n",
       "          dH : 2\n",
       "          dW : 2\n",
       "          oDesc : cdata<struct cudnnTensorStruct *[1]>: 0x41fe0b50\n",
       "          kW : 2\n",
       "          gradInput : CudaTensor - empty\n",
       "          iDesc : cdata<struct cudnnTensorStruct *[1]>: 0x41fb2378\n",
       "          iSize : LongStorage - size: 4\n",
       "          poolDesc : cdata<struct cudnnPoolingStruct *[1]>: 0x4173ddf0\n",
       "          name : pool2\n",
       "          mode : CUDNN_POOLING_MAX\n",
       "          _type : torch.CudaTensor\n",
       "          padH : 0\n",
       "          ceil_mode : true\n",
       "          output : CudaTensor - size: 128x48x38\n",
       "          kH : 2\n",
       "          padW : 0\n",
       "        }\n",
       "      12 : \n",
       "        cudnn.SpatialConvolution(128 -> 256, 3x3, 1,1, 1,1)\n",
       "        {\n",
       "          padW : 1\n",
       "          pad : \n",
       "            {\n",
       "              1 : 1\n",
       "              2 : 1\n",
       "            }\n",
       "          nInputPlane : 128\n",
       "          output : CudaTensor - size: 256x48x38\n",
       "          name : conv3_1\n",
       "          iSize : LongStorage - size: 4\n",
       "          convDesc : cdata<struct cudnnConvolutionStruct *[?]>: 0x412131d8\n",
       "          convDescData : \n",
       "            {\n",
       "              upscaleA : \n",
       "   "
      ]
     },
     "execution_count": 8,
     "metadata": {},
     "output_type": "execute_result"
    },
    {
     "data": {
      "text/plain": [
       "             {\n",
       "                  1 : 1\n",
       "                  2 : 1\n",
       "                }\n",
       "              arrayLength : 2\n",
       "              padA : \n",
       "                {\n",
       "                  1 : 1\n",
       "                  2 : 1\n",
       "                }\n",
       "              dataType : CUDNN_DATA_FLOAT\n",
       "              mode : CUDNN_CROSS_CORRELATION\n",
       "              filterStrideA : \n",
       "                {\n",
       "                  1 : 1\n",
       "                  2 : 1\n",
       "                }\n",
       "            }\n",
       "          stride : \n",
       "            {\n",
       "              1 : 1\n",
       "              2 : 1\n",
       "            }\n",
       "          groups : 1\n",
       "          dH : 1\n",
       "          nOutputPlane : 256\n",
       "          bias : CudaTensor - size: 256\n",
       "          oDescForBias : cdata<struct cudnnTensorStruct *[1]>: 0x4151e8a8\n",
       "          input_offset : 233472\n",
       "          gradWeight : CudaTensor - size: 256x128x3x3\n",
       "          autotunerHash : -dimA1,128,48,38 -filtA256,128,3,3 1,256,48,38 -padA1,1 -convStrideA1,1 CUDNN_DATA_FLOAT\n",
       "          biasDesc : cdata<struct cudnnTensorStruct *[1]>: 0x41483a38\n",
       "          gradInput : CudaTensor - empty\n",
       "          _type : torch.CudaTensor\n",
       "          output_slice : CudaTensor - size: 1x256x48x38\n",
       "          dW : 1\n",
       "          padH : 1\n",
       "          kH : 3\n",
       "          weight_offset : 294912\n",
       "          output_offset : 466944\n",
       "          input_slice : CudaTensor - size: 1x128x48x38\n",
       "          oDesc : cdata<struct cudnnTensorStruct *[1]>: 0x40196ed0\n",
       "          oSize : LongStorage - size: 4\n",
       "          iDesc : cdata<struct cudnnTensorStruct *[1]>: 0x40036360\n",
       "          weight : CudaTensor - size: 256x128x3x3\n",
       "          "
      ]
     },
     "execution_count": 8,
     "metadata": {},
     "output_type": "execute_result"
    },
    {
     "data": {
      "text/plain": [
       "gradBias : CudaTensor - size: 256\n",
       "          kW : 3\n",
       "          weightDesc : cdata<struct cudnnFilterStruct *[?]>: 0x40c2a418\n",
       "        }\n",
       "      13 : \n",
       "        cudnn.ReLU\n",
       "        {\n",
       "          output : CudaTensor - size: 256x48x38\n",
       "          gradInput : CudaTensor - empty\n",
       "          iDesc : cdata<struct cudnnTensorStruct *[1]>: 0x41d8b7f0\n",
       "          inplace : true\n",
       "          mode : CUDNN_ACTIVATION_RELU\n",
       "          _type : torch.CudaTensor\n",
       "          nElem : 466944\n",
       "          name : relu3_1\n",
       "          activDesc : cdata<struct cudnnActivationStruct *[1]>: 0x401828f8\n",
       "        }\n",
       "      14 : \n",
       "        nn.MRFMM\n",
       "        {\n",
       "          _type : torch.CudaTensor\n",
       "          output : CudaTensor - size: 256x48x38\n",
       "          gradInput : CudaTensor - empty\n",
       "          finput : CudaTensor - empty\n",
       "          fgradInput : CudaTensor - empty\n",
       "        }\n",
       "      15 : \n",
       "        cudnn.SpatialConvolution(256 -> 256, 3x3, 1,1, 1,1)\n",
       "        {\n",
       "          padW : 1\n",
       "          pad : \n",
       "            {\n",
       "              1 : 1\n",
       "              2 : 1\n",
       "            }\n",
       "          nInputPlane : 256\n",
       "          output : CudaTensor - size: 256x48x38\n",
       "          name : conv3_2\n",
       "          iSize : LongStorage - size: 4\n",
       "          convDesc : cdata<struct cudnnConvolutionStruct *[?]>: 0x414b4800\n",
       "          convDescData : \n",
       "            {\n",
       "              upscaleA : \n",
       "                {\n",
       "                  1 : 1\n",
       "                  2 : 1\n",
       "                }\n",
       "              arrayLength : 2\n",
       "              padA : \n",
       "                {\n",
       "                  1 : 1\n",
       "                  2 : 1\n",
       "     "
      ]
     },
     "execution_count": 8,
     "metadata": {},
     "output_type": "execute_result"
    },
    {
     "data": {
      "text/plain": [
       "           }\n",
       "              dataType : CUDNN_DATA_FLOAT\n",
       "              mode : CUDNN_CROSS_CORRELATION\n",
       "              filterStrideA : \n",
       "                {\n",
       "                  1 : 1\n",
       "                  2 : 1\n",
       "                }\n",
       "            }\n",
       "          stride : \n",
       "            {\n",
       "              1 : 1\n",
       "              2 : 1\n",
       "            }\n",
       "          groups : 1\n",
       "          dH : 1\n",
       "          nOutputPlane : 256\n",
       "          bias : CudaTensor - size: 256\n",
       "          oDescForBias : cdata<struct cudnnTensorStruct *[1]>: 0x41d81800\n",
       "          input_offset : 466944\n",
       "          gradWeight : CudaTensor - size: 256x256x3x3\n",
       "          autotunerHash : -dimA1,256,48,38 -filtA256,256,3,3 1,256,48,38 -padA1,1 -convStrideA1,1 CUDNN_DATA_FLOAT\n",
       "          biasDesc : cdata<struct cudnnTensorStruct *[1]>: 0x41664d60\n",
       "          gradInput : CudaTensor - empty\n",
       "          _type : torch.CudaTensor\n",
       "          output_slice : CudaTensor - size: 1x256x48x38\n",
       "          dW : 1\n",
       "          padH : 1\n",
       "          kH : 3\n",
       "          weight_offset : 589824\n",
       "          output_offset : 466944\n",
       "          input_slice : CudaTensor - size: 1x256x48x38\n",
       "          oDesc : cdata<struct cudnnTensorStruct *[1]>: 0x40144360\n",
       "          oSize : LongStorage - size: 4\n",
       "          iDesc : cdata<struct cudnnTensorStruct *[1]>: 0x40b05b78\n",
       "          weight : CudaTensor - size: 256x256x3x3\n",
       "          gradBias : CudaTensor - size: 256\n",
       "          kW : 3\n",
       "          weightDesc : cdata<struct cudnnFilterStruct *[?]>: 0x401cc388\n",
       "        }\n",
       "      16 : \n",
       "        cudnn.ReLU\n",
       "        {\n",
       "          output : CudaTensor - size: 256x48x38\n",
       "          gradInput : CudaTensor - empty\n",
       "          iDesc : cdata<struct cudnnTensorStruct *[1]>: 0x41ee9218\n",
       "          inplace : true\n",
       "          mode : CUDNN_ACTIVATION_RELU\n",
       "        "
      ]
     },
     "execution_count": 8,
     "metadata": {},
     "output_type": "execute_result"
    },
    {
     "data": {
      "text/plain": [
       "  _type : torch.CudaTensor\n",
       "          nElem : 466944\n",
       "          name : relu3_2\n",
       "          activDesc : cdata<struct cudnnActivationStruct *[1]>: 0x40cb5608\n",
       "        }\n",
       "      17 : \n",
       "        cudnn.SpatialConvolution(256 -> 256, 3x3, 1,1, 1,1)\n",
       "        {\n",
       "          padW : 1\n",
       "          pad : \n",
       "            {\n",
       "              1 : 1\n",
       "              2 : 1\n",
       "            }\n",
       "          nInputPlane : 256\n",
       "          output : CudaTensor - size: 256x48x38\n",
       "          name : conv3_3\n",
       "          iSize : LongStorage - size: 4\n",
       "          convDesc : cdata<struct cudnnConvolutionStruct *[?]>: 0x40189e38\n",
       "          convDescData : \n",
       "            {\n",
       "              upscaleA : \n",
       "                {\n",
       "                  1 : 1\n",
       "                  2 : 1\n",
       "                }\n",
       "              arrayLength : 2\n",
       "              padA : \n",
       "                {\n",
       "                  1 : 1\n",
       "                  2 : 1\n",
       "                }\n",
       "              dataType : CUDNN_DATA_FLOAT\n",
       "              mode : CUDNN_CROSS_CORRELATION\n",
       "              filterStrideA : \n",
       "                {\n",
       "                  1 : 1\n",
       "                  2 : 1\n",
       "                }\n",
       "            }\n",
       "          stride : \n",
       "            {\n",
       "              1 : 1\n",
       "              2 : 1\n",
       "            }\n",
       "          groups : 1\n",
       "          dH : 1\n",
       "          nOutputPlane : 256\n",
       "          bias : CudaTensor - size: 256\n"
      ]
     },
     "execution_count": 8,
     "metadata": {},
     "output_type": "execute_result"
    },
    {
     "data": {
      "text/plain": [
       "          oDescForBias : cdata<struct cudnnTensorStruct *[1]>: 0x413187b8\n",
       "          input_offset : 466944\n",
       "          gradWeight : CudaTensor - size: 256x256x3x3\n",
       "          autotunerHash : -dimA1,256,48,38 -filtA256,256,3,3 1,256,48,38 -padA1,1 -convStrideA1,1 CUDNN_DATA_FLOAT\n",
       "          biasDesc : cdata<struct cudnnTensorStruct *[1]>: 0x41312ab8\n",
       "          gradInput : CudaTensor - empty\n",
       "          _type : torch.CudaTensor\n",
       "          output_slice : CudaTensor - size: 1x256x48x38\n",
       "          dW : 1\n",
       "          padH : 1\n",
       "          kH : 3\n",
       "          weight_offset : 589824\n",
       "          output_offset : 466944\n",
       "          input_slice : CudaTensor - size: 1x256x48x38\n",
       "          oDesc : cdata<struct cudnnTensorStruct *[1]>: 0x4199fe58\n",
       "          oSize : LongStorage - size: 4\n",
       "          iDesc : cdata<struct cudnnTensorStruct *[1]>: 0x40153f58\n",
       "          weight : CudaTensor - size: 256x256x3x3\n",
       "          gradBias : CudaTensor - size: 256\n",
       "          kW : 3\n",
       "          weightDesc : cdata<struct cudnnFilterStruct *[?]>: 0x4024a2b8\n",
       "        }\n",
       "      18 : \n",
       "        cudnn.ReLU\n",
       "        {\n",
       "          output : CudaTensor - size: 256x48x38\n",
       "          gradInput : CudaTensor - empty\n",
       "          iDesc : cdata<struct cudnnTensorStruct *[1]>: 0x40172068\n",
       "          inplace : true\n",
       "          mode : CUDNN_ACTIVATION_RELU\n",
       "          _type : torch.CudaTensor\n",
       "          nElem : 466944\n",
       "          name : relu3_3\n",
       "          activDesc : cdata<struct cudnnActivationStruct *[1]>: 0x40c2e4c0\n",
       "        }\n",
       "      19 : \n",
       "        cudnn.SpatialConvolution(256 -> 256, 3x3, 1,1, 1,1)\n",
       "        {\n",
       "          padW : 1\n",
       "          pad : \n",
       "            {\n",
       "              1 : 1\n",
       "              2 : 1\n",
       "            }\n",
       "          nInputPlane : 256\n",
       "          output : CudaTensor - size: 256x48x38\n",
       "          name : conv3_4\n",
       "          iSize : LongStorage - size: 4\n",
       "          convDesc : cdata<struct cudnnConvolutionStruct *[?]>: 0x40244480\n",
       "          convDescData : \n",
       "            {\n",
       "              upscaleA : \n",
       "                {\n",
       "                  1 : 1\n",
       "                  2 : 1\n",
       "                "
      ]
     },
     "execution_count": 8,
     "metadata": {},
     "output_type": "execute_result"
    },
    {
     "data": {
      "text/plain": [
       "}\n",
       "              arrayLength : 2\n",
       "              padA : \n",
       "                {\n",
       "                  1 : 1\n",
       "                  2 : 1\n",
       "                }\n",
       "              dataType : CUDNN_DATA_FLOAT\n",
       "              mode : CUDNN_CROSS_CORRELATION\n",
       "              filterStrideA : \n",
       "                {\n",
       "                  1 : 1\n",
       "                  2 : 1\n",
       "                }\n",
       "            }\n",
       "          stride : \n",
       "            {\n",
       "              1 : 1\n",
       "              2 : 1\n",
       "            }\n",
       "          groups : 1\n",
       "          dH : 1\n",
       "          nOutputPlane : 256\n",
       "          bias : CudaTensor - size: 256\n",
       "          oDescForBias : cdata<struct cudnnTensorStruct *[1]>: 0x4025f4c0\n",
       "          input_offset : 466944\n",
       "          gradWeight : CudaTensor - size: 256x256x3x3\n",
       "          autotunerHash : -dimA1,256,48,38 -filtA256,256,3,3 1,256,48,38 -padA1,1 -convStrideA1,1 CUDNN_DATA_FLOAT\n",
       "          biasDesc : cdata<struct cudnnTensorStruct *[1]>: 0x40229750\n",
       "          gradInput : CudaTensor - empty\n",
       "          _type : torch.CudaTensor\n",
       "          output_slice : CudaTensor - size: 1x256x48x38\n",
       "          dW : 1\n",
       "          padH : 1\n",
       "          kH : 3\n",
       "          weight_offset : 589824\n",
       "          output_offset : 466944\n",
       "          input_slice : CudaTensor - size: 1x256x48x38\n",
       "          oDesc : cdata<struct cudnnTensorStruct *[1]>: 0x400366d0\n",
       "          oSize : LongStorage - size: 4\n",
       "          iDesc : cdata<struct cudnnTensorStruct *[1]>: 0x412236e8\n",
       "          weight : CudaTensor - size: 256x256x3x3\n",
       "          gradBias : CudaTensor - size: 256\n",
       "          kW : 3\n",
       "          weightDesc : cdata<struct cudnnFilterStruct *[?]>: 0x40155bb0\n",
       "        }\n",
       "      20 : \n",
       "        cudnn.ReLU\n",
       "        {\n",
       "          output : CudaTensor - size: 256x48x38\n",
       "     "
      ]
     },
     "execution_count": 8,
     "metadata": {},
     "output_type": "execute_result"
    },
    {
     "data": {
      "text/plain": [
       "     gradInput : CudaTensor - empty\n",
       "          iDesc : cdata<struct cudnnTensorStruct *[1]>: 0x40b07048\n",
       "          inplace : true\n",
       "          mode : CUDNN_ACTIVATION_RELU\n",
       "          _type : torch.CudaTensor\n",
       "          nElem : 466944\n",
       "          name : relu3_4\n",
       "          activDesc : cdata<struct cudnnActivationStruct *[1]>: 0x40f29a10\n",
       "        }\n",
       "      21 : \n",
       "        cudnn.SpatialMaxPooling(2x2, 2,2)\n",
       "        {\n",
       "          dH : 2\n",
       "          dW : 2\n",
       "          oDesc : cdata<struct cudnnTensorStruct *[1]>: 0x40b58fa8\n",
       "          kW : 2\n",
       "          gradInput : CudaTensor - empty\n",
       "          iDesc : cdata<struct cudnnTensorStruct *[1]>: 0x41edcc30\n",
       "          iSize : LongStorage - size: 4\n",
       "          poolDesc : cdata<struct cudnnPoolingStruct *[1]>: 0x40c1b370\n",
       "          name : pool3\n",
       "          mode : CUDNN_POOLING_MAX\n",
       "          _type : torch.CudaTensor\n",
       "          padH : 0\n",
       "          ceil_mode : true\n",
       "          output : CudaTensor - size: 256x24x19\n",
       "          kH : 2\n",
       "          padW : 0\n",
       "        }\n",
       "      22 : \n",
       "        cudnn.SpatialConvolution(256 -> 512, 3x3, 1,1, 1,1)\n",
       "        {\n",
       "          padW : 1\n",
       "          pad : \n",
       "            {\n",
       "              1 : 1\n",
       "              2 : 1\n",
       "            }\n",
       "          nInputPlane : 256\n",
       "          output : CudaTensor - size: 512x24x19\n",
       "          name : conv4_1\n",
       "          iSize : LongStorage - size: 4\n",
       "          convDesc : cdata<struct cudnnConvolutionStruct *[?]>: 0x40c205b8\n",
       "          convDescData : \n",
       "            {\n",
       "              upscaleA : \n",
       "                {\n",
       "                  1 : 1\n",
       "                  2 : 1\n",
       "                }\n",
       "              arrayLength : 2\n",
       "           "
      ]
     },
     "execution_count": 8,
     "metadata": {},
     "output_type": "execute_result"
    },
    {
     "data": {
      "text/plain": [
       "   padA : \n",
       "                {\n",
       "                  1 : 1\n",
       "                  2 : 1\n",
       "                }\n",
       "              dataType : CUDNN_DATA_FLOAT\n",
       "              mode : CUDNN_CROSS_CORRELATION\n",
       "              filterStrideA : \n",
       "                {\n",
       "                  1 : 1\n",
       "                  2 : 1\n",
       "                }\n",
       "            }\n",
       "          stride : \n",
       "            {\n",
       "              1 : 1\n",
       "              2 : 1\n",
       "            }\n",
       "          groups : 1\n",
       "          dH : 1\n",
       "          nOutputPlane : 512\n",
       "          bias : CudaTensor - size: 512\n",
       "          oDescForBias : cdata<struct cudnnTensorStruct *[1]>: 0x419ad4a8\n",
       "          input_offset : 116736\n",
       "          gradWeight : CudaTensor - size: 512x256x3x3\n",
       "          autotunerHash : -dimA1,256,24,19 -filtA512,256,3,3 1,512,24,19 -padA1,1 -convStrideA1,1 CUDNN_DATA_FLOAT\n",
       "          biasDesc : cdata<struct cudnnTensorStruct *[1]>: 0x417a6380\n",
       "          gradInput : CudaTensor - empty\n",
       "          _type : torch.CudaTensor\n",
       "          output_slice : CudaTensor - size: 1x512x24x19\n",
       "          dW : 1\n",
       "          padH : 1\n",
       "          kH : 3\n",
       "          weight_offset : 1179648\n",
       "          output_offset : 233472\n",
       "          input_slice : CudaTensor - size: 1x256x24x19\n",
       "          oDesc : cdata<struct cudnnTensorStruct *[1]>: 0x41213b88\n",
       "          oSize : LongStorage - size: 4\n",
       "          iDesc : cdata<struct cudnnTensorStruct *[1]>: 0x40154ee0\n",
       "          weight : CudaTensor - size: 512x256x3x3\n",
       "          gradBias : CudaTensor - size: 512\n",
       "          kW : 3\n",
       "          weightDesc : cdata<struct cudnnFilterStruct *[?]>: 0x40c2ff80\n",
       "        }\n",
       "      23 : \n",
       "        cudnn.ReLU\n",
       "        {\n",
       "          output : CudaTensor - size: 512x24x19\n",
       "          gradInput : CudaTensor - empty\n",
       "        "
      ]
     },
     "execution_count": 8,
     "metadata": {},
     "output_type": "execute_result"
    },
    {
     "data": {
      "text/plain": [
       "  iDesc : cdata<struct cudnnTensorStruct *[1]>: 0x40b07528\n",
       "          inplace : true\n",
       "          mode : CUDNN_ACTIVATION_RELU\n",
       "          _type : torch.CudaTensor\n",
       "          nElem : 233472\n",
       "          name : relu4_1\n",
       "          activDesc : cdata<struct cudnnActivationStruct *[1]>: 0x41e7f558\n",
       "        }\n",
       "      24 : \n",
       "        nn.MRFMM\n",
       "        {\n",
       "          _type : torch.CudaTensor\n",
       "          output : CudaTensor - size: 512x24x19\n",
       "          gradInput : CudaTensor - empty\n",
       "          finput : CudaTensor - empty\n",
       "          fgradInput : CudaTensor - empty\n",
       "        }\n",
       "      25 : \n",
       "        cudnn.SpatialConvolution(512 -> 512, 3x3, 1,1, 1,1)\n",
       "        {\n",
       "          padW : 1\n",
       "          pad : \n",
       "            {\n",
       "              1 : 1\n",
       "              2 : 1\n",
       "            }\n",
       "          nInputPlane : 512\n",
       "          output : CudaTensor - size: 512x24x19\n",
       "          name : conv4_2\n",
       "          iSize : LongStorage - size: 4\n",
       "          convDesc : cdata<struct cudnnConvolutionStruct *[?]>: 0x41df84f0\n",
       "          convDescData : \n",
       "            {\n",
       "              upscaleA : \n",
       "                {\n",
       "                  1 : 1\n",
       "                  2 : 1\n",
       "                }\n",
       "              arrayLength : 2\n",
       "              padA : \n",
       "                {\n",
       "                  1 : 1\n",
       "                  2 : 1\n",
       "                }\n",
       "              dataType : CUDNN_DATA_FLOAT\n",
       "              mode : CUDNN_CROSS_CORRELATION\n",
       "              filterStrideA : \n",
       "                {\n",
       "                  1 : 1\n",
       "                  2 : 1\n",
       "                }\n",
       "          "
      ]
     },
     "execution_count": 8,
     "metadata": {},
     "output_type": "execute_result"
    },
    {
     "data": {
      "text/plain": [
       "  }\n",
       "          stride : \n",
       "            {\n",
       "              1 : 1\n",
       "              2 : 1\n",
       "            }\n",
       "          groups : 1\n",
       "          dH : 1\n",
       "          nOutputPlane : 512\n",
       "          bias : CudaTensor - size: 512\n",
       "          oDescForBias : cdata<struct cudnnTensorStruct *[1]>: 0x4179a188\n",
       "          input_offset : 233472\n",
       "          gradWeight : CudaTensor - size: 512x512x3x3\n",
       "          autotunerHash : -dimA1,512,24,19 -filtA512,512,3,3 1,512,24,19 -padA1,1 -convStrideA1,1 CUDNN_DATA_FLOAT\n",
       "          biasDesc : cdata<struct cudnnTensorStruct *[1]>: 0x417404e0\n",
       "          gradInput : CudaTensor - empty\n",
       "          _type : torch.CudaTensor\n",
       "          output_slice : CudaTensor - size: 1x512x24x19\n",
       "          dW : 1\n",
       "          padH : 1\n",
       "          kH : 3\n",
       "          weight_offset : 2359296\n",
       "          output_offset : 233472\n",
       "          input_slice : CudaTensor - size: 1x512x24x19\n",
       "          oDesc : cdata<struct cudnnTensorStruct *[1]>: 0x41e32580\n",
       "          oSize : LongStorage - size: 4\n",
       "          iDesc : cdata<struct cudnnTensorStruct *[1]>: 0x41fec9c0\n",
       "          weight : CudaTensor - size: 512x512x3x3\n",
       "          gradBias : CudaTensor - size: 512\n",
       "          kW : 3\n",
       "          weightDesc : cdata<struct cudnnFilterStruct *[?]>: 0x41896f08\n",
       "        }\n",
       "      26 : \n",
       "        cudnn.ReLU\n",
       "        {\n",
       "          output : CudaTensor - size: 512x24x19\n",
       "          gradInput : CudaTensor - empty\n",
       "          iDesc : cdata<struct cudnnTensorStruct *[1]>: 0x4166d230\n",
       "          inplace : true\n",
       "          mode : CUDNN_ACTIVATION_RELU\n",
       "          _type : torch.CudaTensor\n",
       "          nElem : 233472\n",
       "          name : relu4_2\n",
       "          activDesc : cdata<struct cudnnActivationStruct *[1]>: 0x40c266c8\n",
       "        }\n",
       "      27 : \n",
       "        nn.ContentLoss\n",
       "        {\n",
       "          crit : \n",
       "            nn.MSECriterion\n",
       "            {\n",
       "              gradInput : CudaTensor - empty\n",
       "              sizeAverage : true\n",
       "     "
      ]
     },
     "execution_count": 8,
     "metadata": {},
     "output_type": "execute_result"
    },
    {
     "data": {
      "text/plain": [
       "         output : 0\n",
       "            }\n",
       "          normalize : false\n",
       "          _type : torch.CudaTensor\n",
       "          output : CudaTensor - empty\n",
       "          gradInput : CudaTensor - empty\n",
       "          strength : 20\n",
       "          target : CudaTensor - size: 512x24x19\n",
       "          loss : 0\n",
       "        }\n",
       "    }\n",
       "  _type : torch.FloatTensor\n",
       "  output : CudaTensor - empty\n",
       "}\n",
       "content_layers: \t\n",
       "27\t\n",
       "mrf_layers: \t\n",
       "14\t\n",
       "24\t\n",
       "network has been built.\t\n",
       "*****************************************************\t\n",
       "Synthesis started at resolution \t\n",
       "*****************************************************\t\n",
       "Implementing mrf layers ...\t\n"
      ]
     },
     "execution_count": 8,
     "metadata": {},
     "output_type": "execute_result"
    },
    {
     "data": {
      "text/plain": [
       "Iteration 10, 100\t\n"
      ]
     },
     "execution_count": 8,
     "metadata": {},
     "output_type": "execute_result"
    },
    {
     "data": {
      "text/plain": [
       "Iteration 20, 100\t\n"
      ]
     },
     "execution_count": 8,
     "metadata": {},
     "output_type": "execute_result"
    },
    {
     "data": {
      "text/plain": [
       "Iteration 30, 100\t\n"
      ]
     },
     "execution_count": 8,
     "metadata": {},
     "output_type": "execute_result"
    },
    {
     "data": {
      "text/plain": [
       "Iteration 40, 100\t\n"
      ]
     },
     "execution_count": 8,
     "metadata": {},
     "output_type": "execute_result"
    },
    {
     "data": {
      "text/plain": [
       "Iteration 50, 100\t\n"
      ]
     },
     "execution_count": 8,
     "metadata": {},
     "output_type": "execute_result"
    },
    {
     "data": {
      "text/plain": [
       "Iteration 60, 100\t\n"
      ]
     },
     "execution_count": 8,
     "metadata": {},
     "output_type": "execute_result"
    },
    {
     "data": {
      "text/plain": [
       "Iteration 70, 100\t\n"
      ]
     },
     "execution_count": 8,
     "metadata": {},
     "output_type": "execute_result"
    },
    {
     "data": {
      "text/plain": [
       "Iteration 80, 100\t\n"
      ]
     },
     "execution_count": 8,
     "metadata": {},
     "output_type": "execute_result"
    },
    {
     "data": {
      "text/plain": [
       "Iteration 90, 100\t\n"
      ]
     },
     "execution_count": 8,
     "metadata": {},
     "output_type": "execute_result"
    },
    {
     "data": {
      "text/plain": [
       "Iteration 100, 100\t\n"
      ]
     },
     "execution_count": 8,
     "metadata": {},
     "output_type": "execute_result"
    },
    {
     "data": {
      "text/plain": [
       "<mylbfgs> \treached max number of iterations\t\n",
       "Synthesis finished at resolution 1, 19.389960 seconds\t\n"
      ]
     },
     "execution_count": 8,
     "metadata": {},
     "output_type": "execute_result"
    },
    {
     "data": {
      "text/plain": [
       "*****************************************************\t\n",
       "Synthesis started at resolution \t\n",
       "*****************************************************\t\n",
       "Implementing mrf layers ...\t\n"
      ]
     },
     "execution_count": 8,
     "metadata": {},
     "output_type": "execute_result"
    },
    {
     "data": {
      "text/plain": [
       "Iteration 10, 100\t\n"
      ]
     },
     "execution_count": 8,
     "metadata": {},
     "output_type": "execute_result"
    },
    {
     "data": {
      "text/plain": [
       "Iteration 20, 100\t\n"
      ]
     },
     "execution_count": 8,
     "metadata": {},
     "output_type": "execute_result"
    },
    {
     "data": {
      "text/plain": [
       "Iteration 30, 100\t\n"
      ]
     },
     "execution_count": 8,
     "metadata": {},
     "output_type": "execute_result"
    },
    {
     "data": {
      "text/plain": [
       "Iteration 40, 100\t\n"
      ]
     },
     "execution_count": 8,
     "metadata": {},
     "output_type": "execute_result"
    },
    {
     "data": {
      "text/plain": [
       "Iteration 50, 100\t\n"
      ]
     },
     "execution_count": 8,
     "metadata": {},
     "output_type": "execute_result"
    },
    {
     "data": {
      "text/plain": [
       "Iteration 60, 100\t\n"
      ]
     },
     "execution_count": 8,
     "metadata": {},
     "output_type": "execute_result"
    },
    {
     "data": {
      "text/plain": [
       "Iteration 70, 100\t\n"
      ]
     },
     "execution_count": 8,
     "metadata": {},
     "output_type": "execute_result"
    },
    {
     "data": {
      "text/plain": [
       "Iteration 80, 100\t\n"
      ]
     },
     "execution_count": 8,
     "metadata": {},
     "output_type": "execute_result"
    },
    {
     "data": {
      "text/plain": [
       "Iteration 90, 100\t\n"
      ]
     },
     "execution_count": 8,
     "metadata": {},
     "output_type": "execute_result"
    },
    {
     "data": {
      "text/plain": [
       "Iteration 100, 100\t\n"
      ]
     },
     "execution_count": 8,
     "metadata": {},
     "output_type": "execute_result"
    },
    {
     "data": {
      "text/plain": [
       "<mylbfgs> \treached max number of iterations\t\n",
       "Synthesis finished at resolution 2, 82.665846 seconds\t\n"
      ]
     },
     "execution_count": 8,
     "metadata": {},
     "output_type": "execute_result"
    },
    {
     "data": {
      "text/plain": [
       "*****************************************************\t\n",
       "Synthesis started at resolution \t\n",
       "*****************************************************\t\n",
       "Implementing mrf layers ...\t\n"
      ]
     },
     "execution_count": 8,
     "metadata": {},
     "output_type": "execute_result"
    },
    {
     "data": {
      "text/plain": [
       "Iteration 10, 100\t\n"
      ]
     },
     "execution_count": 8,
     "metadata": {},
     "output_type": "execute_result"
    },
    {
     "data": {
      "text/plain": [
       "Iteration 20, 100\t\n"
      ]
     },
     "execution_count": 8,
     "metadata": {},
     "output_type": "execute_result"
    },
    {
     "data": {
      "text/plain": [
       "Iteration 30, 100\t\n"
      ]
     },
     "execution_count": 8,
     "metadata": {},
     "output_type": "execute_result"
    },
    {
     "data": {
      "text/plain": [
       "Iteration 40, 100\t\n"
      ]
     },
     "execution_count": 8,
     "metadata": {},
     "output_type": "execute_result"
    },
    {
     "data": {
      "text/plain": [
       "Iteration 50, 100\t\n"
      ]
     },
     "execution_count": 8,
     "metadata": {},
     "output_type": "execute_result"
    },
    {
     "data": {
      "text/plain": [
       "Iteration 60, 100\t\n"
      ]
     },
     "execution_count": 8,
     "metadata": {},
     "output_type": "execute_result"
    },
    {
     "data": {
      "text/plain": [
       "Iteration 70, 100\t\n"
      ]
     },
     "execution_count": 8,
     "metadata": {},
     "output_type": "execute_result"
    },
    {
     "data": {
      "text/plain": [
       "Iteration 80, 100\t\n"
      ]
     },
     "execution_count": 8,
     "metadata": {},
     "output_type": "execute_result"
    },
    {
     "data": {
      "text/plain": [
       "Iteration 90, 100\t\n"
      ]
     },
     "execution_count": 8,
     "metadata": {},
     "output_type": "execute_result"
    },
    {
     "data": {
      "text/plain": [
       "Iteration 100, 100\t\n"
      ]
     },
     "execution_count": 8,
     "metadata": {},
     "output_type": "execute_result"
    },
    {
     "data": {
      "text/plain": [
       "<mylbfgs> \treached max number of iterations\t\n",
       "Synthesis finished at resolution 3, 499.794273 seconds\t\n"
      ]
     },
     "execution_count": 8,
     "metadata": {},
     "output_type": "execute_result"
    },
    {
     "data": {
      "text/plain": [
       "Total time: 605.772678 seconds\t\n"
      ]
     },
     "execution_count": 8,
     "metadata": {},
     "output_type": "execute_result"
    }
   ],
   "source": [
    "require 'paths'\n",
    "paths.dofile('.\\\\helper.lua')   \n",
    "local list_params = {\n",
    "    {'potrait1', 'picasso', 'image', 384 * 2, 3, {100, 100, 100}, {12, 21}, {1e-4, 1e-4}, {3, 3}, 1, 1, {2, 2}, {2, 2}, {0, 0}, {23}, 2e1, 1e-3, 'speed', 256, 16, 'cudnn'},\n",
    "}\n",
    "\n",
    "run_tests(require 'transfer_CNNMRF_wrapper', list_params)\n"
   ]
  },
  {
   "cell_type": "code",
   "execution_count": null,
   "metadata": {},
   "outputs": [],
   "source": []
  }
 ],
 "metadata": {
  "kernelspec": {
   "display_name": "iTorch",
   "language": "lua",
   "name": "itorch"
  },
  "language_info": {
   "name": "lua",
   "version": "5.1"
  }
 },
 "nbformat": 4,
 "nbformat_minor": 2
}
